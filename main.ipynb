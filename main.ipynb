{
 "cells": [
  {
   "cell_type": "code",
   "execution_count": 1,
   "metadata": {},
   "outputs": [],
   "source": [
    "import numpy as np\n",
    "import matplotlib.pyplot as plt\n",
    "import scipy.io as io\n",
    "from sklearn import svm"
   ]
  },
  {
   "cell_type": "code",
   "execution_count": 5,
   "metadata": {},
   "outputs": [],
   "source": [
    "def plotData(X, y, **kwargs):\n",
    "    '''\n",
    "    predict the value for the provided linear regression model\n",
    "    '''\n",
    "    addBias = kwargs.pop(\n",
    "        'addBias',\n",
    "        False)\n",
    "\n",
    "    Xtemp = X\n",
    "\n",
    "    if(addBias):\n",
    "        Xtemp = np.insert(\n",
    "            Xtemp,\n",
    "            0,\n",
    "            np.ones(\n",
    "                Xtemp.shape[0]),\n",
    "            axis=1)\n",
    "    \n",
    "    X = Xtemp\n",
    "    Y = y\n",
    "    positiveExamples = plt.scatter(\n",
    "                    np.extract(Y == 1, X[:, 1]),\n",
    "                    np.extract(Y == 1, X[:, 2]),\n",
    "                    label=\"y=1\",\n",
    "                    marker='o',\n",
    "                    color='b',\n",
    "                    s=10)\n",
    "\n",
    "    negativeExamples = plt.scatter(\n",
    "                    np.extract(Y == 0, X[:, 1]),\n",
    "                    np.extract(Y == 0, X[:, 2]),\n",
    "                    label=\"y=0\",\n",
    "                    marker='x',\n",
    "                    color='r',\n",
    "                    s=10)\n",
    "\n",
    "    plt.legend(handles=[positiveExamples, negativeExamples], loc='lower left')"
   ]
  },
  {
   "cell_type": "code",
   "execution_count": 6,
   "metadata": {},
   "outputs": [],
   "source": [
    "def visualizeBoundary(X, y, svc, h=0.02):\n",
    "\n",
    "    x_min, x_max = X[:, 0].min(), X[:, 0].max()\n",
    "    y_min, y_max = X[:, 1].min(), X[:, 1].max()\n",
    "\n",
    "    xx, yy = np.meshgrid(\n",
    "        np.arange(\n",
    "            x_min,\n",
    "            x_max,\n",
    "            h),\n",
    "        np.arange(\n",
    "            y_min,\n",
    "            y_max,\n",
    "            h))\n",
    "\n",
    "    Z = svc.predict(np.c_[xx.ravel(), yy.ravel()])\n",
    "    Z = Z.reshape(xx.shape)\n",
    "\n",
    "    plt.contour(\n",
    "        xx,\n",
    "        yy,\n",
    "        Z,\n",
    "        [0],\n",
    "        colors='k',\n",
    "        linewidths=1)\n",
    "\n",
    "    plotData(X, y, addBias=True)"
   ]
  },
  {
   "cell_type": "code",
   "execution_count": 7,
   "metadata": {},
   "outputs": [
    {
     "data": {
      "image/png": "[encoded data removed]",
      "text/plain": [
       "<Figure size 432x288 with 1 Axes>"
      ]
     },
     "metadata": {
      "needs_background": "light"
     },
     "output_type": "display_data"
    }
   ],
   "source": [
    "mat = io.loadmat('C:/Users/Windows/Desktop/Python/EX6/ex6data1.mat')\n",
    "\n",
    "X = mat['X']\n",
    "\n",
    "y = mat['y'].astype(int).ravel()\n",
    "\n",
    "plotData(X, y, addBias=True)\n",
    "plt.show()"
   ]
  },
  {
   "cell_type": "code",
   "execution_count": 9,
   "metadata": {},
   "outputs": [],
   "source": [
    "def linearKernel(): \n",
    "    C = 1\n",
    "    model = svm.SVC(\n",
    "            C=1,\n",
    "            max_iter=100,\n",
    "            tol=.01,\n",
    "            kernel='linear')\n",
    "\n",
    "    model.fit(X, y)\n",
    "    visualizeBoundary(X, y, model)\n",
    "    plt.show()"
   ]
  },
  {
   "cell_type": "code",
   "execution_count": 11,
   "metadata": {},
   "outputs": [],
   "source": [
    "def gaussianKernel(X1, X2, **kwargs):\n",
    "    sigma = kwargs.pop('sigma', 1)\n",
    "\n",
    "    if(isinstance(X1, np.ndarray)):\n",
    "        X1 = X1.flatten()\n",
    "\n",
    "    if(isinstance(X2, np.ndarray)):\n",
    "        X2 = X2.flatten()\n",
    "\n",
    "    euc = np.sum(\n",
    "        np.power(X1, 2) +\n",
    "        np.power(X2, 2) -\n",
    "        (2*X1*X2))\n",
    "\n",
    "    sim = np.exp(-euc/(2*sigma**2))\n",
    "\n",
    "    return sim\n"
   ]
  },
  {
   "cell_type": "code",
   "execution_count": 18,
   "metadata": {},
   "outputs": [],
   "source": [
    "def gaussTest():\n",
    "    X1 = np.array([1, 2, 1])\n",
    "    X2 = np.array([0, 4, -1])\n",
    "    sim = gaussianKernel(X1, X2, sigma=2)\n",
    "\n",
    "    print('Gaussian Kernel between x1 = [1; 2; 1], x2 = [0; 4; -1], sigma = 2. \\n{:.6f}'.format(sim))\n",
    "    print('(for sigma = 2, this value should be about 0.324652)')"
   ]
  },
  {
   "cell_type": "code",
   "execution_count": 19,
   "metadata": {},
   "outputs": [
    {
     "name": "stdout",
     "output_type": "stream",
     "text": [
      "Gaussian Kernel between x1 = [1; 2; 1], x2 = [0; 4; -1], sigma = 2. \n",
      "0.324652\n",
      "(for sigma = 2, this value should be about 0.324652)\n"
     ]
    }
   ],
   "source": [
    "gaussTest()"
   ]
  },
  {
   "cell_type": "code",
   "execution_count": null,
   "metadata": {},
   "outputs": [],
   "source": []
  }
 ],
 "metadata": {
  "kernelspec": {
   "display_name": "Python 3",
   "language": "python",
   "name": "python3"
  },
  "language_info": {
   "codemirror_mode": {
    "name": "ipython",
    "version": 3
   },
   "file_extension": ".py",
   "mimetype": "text/x-python",
   "name": "python",
   "nbconvert_exporter": "python",
   "pygments_lexer": "ipython3",
   "version": "3.7.0"
  }
 },
 "nbformat": 4,
 "nbformat_minor": 2
}
